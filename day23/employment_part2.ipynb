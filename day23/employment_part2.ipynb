{
 "cells": [
  {
   "cell_type": "code",
   "execution_count": 1,
   "id": "78e998e9",
   "metadata": {},
   "outputs": [],
   "source": [
    "# imports\n",
    "import pandas as pd\n",
    "import matplotlib.pyplot as plt\n",
    "import seaborn as sns\n",
    "\n",
    "# load all data\n",
    "raw_data = pd.read_excel('employment_data.xlsx', sheet_name='Data1', skiprows=9)"
   ]
  },
  {
   "cell_type": "code",
   "execution_count": 2,
   "id": "787d5f4d",
   "metadata": {},
   "outputs": [],
   "source": [
    "# copy the raw_data to something that we can work with\n",
    "data = raw_data.copy()\n",
    "\n",
    "# we only want the first 4 columns -- we're just looking at hours worked by employees\n",
    "rename_map = {\n",
    "    'Series ID': 'date',\n",
    "    'A84630870K': 'employed_total',\n",
    "    'A84630874V': 'employed_full_time',\n",
    "    'A84630875W': 'employed_part_time',\n",
    "    'A84630871L': 'hours_actually_worked'\n",
    "}\n",
    "\n",
    "# select only the specified columns\n",
    "data = data[list(rename_map.keys())]\n",
    "\n",
    "# rename the columns\n",
    "data.rename(columns=rename_map, inplace=True)\n",
    "\n",
    "# set date as the index\n",
    "data.set_index('date', inplace=True)\n",
    "\n",
    "# remember that the data is in thousands of people\n",
    "data = data * 1000\n",
    "\n",
    "# only show 1 decimal place  and , for legibility -- we don't convert it differently so that we have the most accurate data possible and no rounding errors\n",
    "pd.set_option('display.float_format', '{:,.1f}'.format)  "
   ]
  },
  {
   "cell_type": "code",
   "execution_count": 3,
   "id": "cb804b5f",
   "metadata": {},
   "outputs": [
    {
     "data": {
      "text/html": [
       "<div>\n",
       "<style scoped>\n",
       "    .dataframe tbody tr th:only-of-type {\n",
       "        vertical-align: middle;\n",
       "    }\n",
       "\n",
       "    .dataframe tbody tr th {\n",
       "        vertical-align: top;\n",
       "    }\n",
       "\n",
       "    .dataframe thead th {\n",
       "        text-align: right;\n",
       "    }\n",
       "</style>\n",
       "<table border=\"1\" class=\"dataframe\">\n",
       "  <thead>\n",
       "    <tr style=\"text-align: right;\">\n",
       "      <th></th>\n",
       "      <th>employed_total</th>\n",
       "      <th>employed_full_time</th>\n",
       "      <th>employed_part_time</th>\n",
       "      <th>hours_actually_worked</th>\n",
       "    </tr>\n",
       "    <tr>\n",
       "      <th>date</th>\n",
       "      <th></th>\n",
       "      <th></th>\n",
       "      <th></th>\n",
       "      <th></th>\n",
       "    </tr>\n",
       "  </thead>\n",
       "  <tbody>\n",
       "    <tr>\n",
       "      <th>1991-02-01</th>\n",
       "      <td>6,173,467.3</td>\n",
       "      <td>4,886,404.6</td>\n",
       "      <td>1,287,062.7</td>\n",
       "      <td>213,040,030.3</td>\n",
       "    </tr>\n",
       "    <tr>\n",
       "      <th>1991-05-01</th>\n",
       "      <td>6,153,516.2</td>\n",
       "      <td>4,793,626.9</td>\n",
       "      <td>1,359,889.3</td>\n",
       "      <td>210,606,886.0</td>\n",
       "    </tr>\n",
       "  </tbody>\n",
       "</table>\n",
       "</div>"
      ],
      "text/plain": [
       "            employed_total  employed_full_time  employed_part_time  \\\n",
       "date                                                                 \n",
       "1991-02-01     6,173,467.3         4,886,404.6         1,287,062.7   \n",
       "1991-05-01     6,153,516.2         4,793,626.9         1,359,889.3   \n",
       "\n",
       "            hours_actually_worked  \n",
       "date                               \n",
       "1991-02-01          213,040,030.3  \n",
       "1991-05-01          210,606,886.0  "
      ]
     },
     "metadata": {},
     "output_type": "display_data"
    },
    {
     "name": "stdout",
     "output_type": "stream",
     "text": [
      "<class 'pandas.core.frame.DataFrame'>\n",
      "DatetimeIndex: 137 entries, 1991-02-01 to 2025-02-01\n",
      "Data columns (total 4 columns):\n",
      " #   Column                 Non-Null Count  Dtype  \n",
      "---  ------                 --------------  -----  \n",
      " 0   employed_total         137 non-null    float64\n",
      " 1   employed_full_time     137 non-null    float64\n",
      " 2   employed_part_time     137 non-null    float64\n",
      " 3   hours_actually_worked  137 non-null    float64\n",
      "dtypes: float64(4)\n",
      "memory usage: 5.4 KB\n",
      "None\n"
     ]
    }
   ],
   "source": [
    "display(data.head(2))\n",
    "print(data.info())"
   ]
  },
  {
   "cell_type": "code",
   "execution_count": null,
   "id": "ac033ed0",
   "metadata": {},
   "outputs": [],
   "source": []
  },
  {
   "cell_type": "code",
   "execution_count": null,
   "id": "65a11ee0",
   "metadata": {},
   "outputs": [],
   "source": []
  }
 ],
 "metadata": {
  "kernelspec": {
   "display_name": ".venv",
   "language": "python",
   "name": "python3"
  },
  "language_info": {
   "codemirror_mode": {
    "name": "ipython",
    "version": 3
   },
   "file_extension": ".py",
   "mimetype": "text/x-python",
   "name": "python",
   "nbconvert_exporter": "python",
   "pygments_lexer": "ipython3",
   "version": "3.12.5"
  }
 },
 "nbformat": 4,
 "nbformat_minor": 5
}
