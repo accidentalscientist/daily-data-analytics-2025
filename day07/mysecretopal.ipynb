{
 "cells": [
  {
   "cell_type": "markdown",
   "id": "8ae4cf60",
   "metadata": {},
   "source": [
    "# My Opal Journey Analysis\n",
    "\n",
    "This notebook analyzes my personal Opal card data to understand my travel patterns and expenses. Opal is the smart card ticketing system for public transport in Sydney, Australia.\n",
    "\n",
    "## Objectives\n",
    "\n",
    "- Extract and process journey data from Opal activity statement PDF\n",
    "- Analyze travel patterns (times, routes, expenses)\n",
    "- Visualize key insights from my travel behavior"
   ]
  },
  {
   "cell_type": "code",
   "execution_count": null,
   "id": "a914cf84",
   "metadata": {},
   "outputs": [],
   "source": [
    "import pandas as pd\n",
    "import matplotlib.pyplot as plt\n",
    "import numpy as np\n",
    "import tabula\n",
    "import pdfplumber\n",
    "import re\n",
    "import pdfminer\n",
    "from pdfminer.high_level import extract_pages\n",
    "from pdfminer.layout import LTTextContainer, LTChar\n",
    "\n",
    "\n",
    "#data = pd.read_csv('opal_activity.csv')\n",
    "\n",
    "import warnings\n",
    "warnings.filterwarnings(\"ignore\", category=FutureWarning)"
   ]
  },
  {
   "cell_type": "markdown",
   "id": "0c347f9f",
   "metadata": {},
   "source": [
    "## Data Preparation\n",
    "\n",
    "My Opal data was extracted from a PDF statement using PDF parsing libraries like pdfminer and tabula. This gave us several CSV files with tables from different pages. Now we'll load and clean this data for analysis."
   ]
  },
  {
   "cell_type": "code",
   "execution_count": 48,
   "id": "9623711d",
   "metadata": {},
   "outputs": [],
   "source": [
    "# 1 )  load the CSV Camelot just wrote\n",
    "df = pd.read_csv(\"opal_trips-page-1-table-2.csv\")\n",
    "\n"
   ]
  },
  {
   "cell_type": "code",
   "execution_count": null,
   "id": "c4845286",
   "metadata": {},
   "outputs": [
    {
     "name": "stderr",
     "output_type": "stream",
     "text": [
      "C:\\Users\\tj92a\\AppData\\Local\\Temp\\ipykernel_7576\\2520093369.py:3: FutureWarning: Downcasting object dtype arrays on .fillna, .ffill, .bfill is deprecated and will change in a future version. Call result.infer_objects(copy=False) instead. To opt-in to the future behavior, set `pd.set_option('future.no_silent_downcasting', True)`\n",
      "  .apply(lambda g: g.ffill().bfill()))               # copy values down & up\n",
      "C:\\Users\\tj92a\\AppData\\Local\\Temp\\ipykernel_7576\\2520093369.py:3: DeprecationWarning: DataFrameGroupBy.apply operated on the grouping columns. This behavior is deprecated, and in a future version of pandas the grouping columns will be excluded from the operation. Either pass `include_groups=False` to exclude the groupings or explicitly select the grouping columns after groupby to silence this warning.\n",
      "  .apply(lambda g: g.ffill().bfill()))               # copy values down & up\n"
     ]
    }
   ],
   "source": [
    "df[\"Transaction number\"] = df[\"Transaction number\"].ffill()\n",
    "\n",
    "df_filled = (df\n",
    "             .groupby(\"Transaction number\")\n",
    "             .apply(lambda g: g.ffill().bfill())   # copy values down & up\n",
    "             .reset_index(drop=True))\n",
    "\n",
    "clean = df_filled.drop_duplicates(\"Transaction number\", keep=\"first\")\n"
   ]
  },
  {
   "cell_type": "code",
   "execution_count": 50,
   "id": "bb9ea880",
   "metadata": {},
   "outputs": [],
   "source": [
    "clean = clean.loc[:, ~clean.columns.str.contains(r'^Unnamed')]\n",
    "\n",
    "num_cols = [\"Journey number\", \"Full fare $\", \"Discount $\", \"Amount $\"]\n",
    "clean[num_cols] = clean[num_cols].apply(pd.to_numeric, errors=\"coerce\")\n",
    "\n"
   ]
  },
  {
   "cell_type": "code",
   "execution_count": 51,
   "id": "3cb25197",
   "metadata": {},
   "outputs": [],
   "source": [
    "clean[\"datetime\"] = pd.to_datetime(\n",
    "    clean[\"Date\"].str.strip() + \" \" + clean[\"Time\"].str.strip(),\n",
    "    format=\"%a %H:%M %d/%m/%y\", errors=\"coerce\"\n",
    ")\n"
   ]
  },
  {
   "cell_type": "code",
   "execution_count": 52,
   "id": "4fc1cefe",
   "metadata": {},
   "outputs": [
    {
     "name": "stdout",
     "output_type": "stream",
     "text": [
      "9 journeys saved to opal_trips_clean.csv\n",
      "   Transaction number Date   Time               Mode Details  Journey number  \\\n",
      "0              8935.0  Mon  07:09     Neutral Bay Jn to Spit             1.0   \n",
      "2              8937.0  Mon  17:02     Spit Junction BLine to             2.0   \n",
      "4              8939.0  Tue  07:00     Neutral Bay Jn to Spit             3.0   \n",
      "6              8941.0  Wed  16:33     Spit Junction BLine to             4.0   \n",
      "8              8943.0  Wed  16:56  Wycombe Rd af Military to             4.0   \n",
      "\n",
      "  Fare applied  Full fare $  Discount $  Amount $ datetime  \n",
      "0          NaN          3.2         0.0      -3.2      NaT  \n",
      "2          NaN          3.2         0.0      -3.2      NaT  \n",
      "4          NaN          3.2         0.0      -3.2      NaT  \n",
      "6          NaN          3.2         0.0      -3.2      NaT  \n",
      "8          NaN          0.0         0.0       0.0      NaT  \n"
     ]
    }
   ],
   "source": [
    "clean.to_csv(\"opal_trips_clean.csv\", index=False)\n",
    "print(f\"{len(clean)} journeys saved to opal_trips_clean.csv\")\n",
    "print(clean.head())\n"
   ]
  },
  {
   "cell_type": "markdown",
   "id": "72bf57c5",
   "metadata": {},
   "source": [
    "## Data Analysis and Visualizations\n",
    "\n",
    "Now that we have cleaned the data, we can start analyzing travel patterns and visualizing insights. Let's begin with a simple histogram showing when I typically travel throughout the day."
   ]
  },
  {
   "cell_type": "code",
   "execution_count": 56,
   "id": "d298603e",
   "metadata": {},
   "outputs": [
    {
     "data": {
      "image/png": "[encoded data removed]",
      "text/plain": [
       "<Figure size 700x300 with 1 Axes>"
      ]
     },
     "metadata": {},
     "output_type": "display_data"
    }
   ],
   "source": [
    "hours = (clean['Time']\n",
    "         .str.slice(0,2)                 # \"07:09\" → \"07\"\n",
    "         .dropna()\n",
    "         .astype(int))\n",
    "\n",
    "hours.plot(kind='hist', bins=range(0,25), figsize=(7,3),\n",
    "           rwidth=0.9, xlabel='Hour of day',\n",
    "           title='Journeys by hour')\n",
    "plt.xticks(range(0,24)); plt.grid(alpha=.3); plt.tight_layout()"
   ]
  },
  {
   "cell_type": "markdown",
   "id": "af7598b0",
   "metadata": {},
   "source": [
    "## Route Analysis\n",
    "\n",
    "Let's analyze my most frequent journeys and routes to better understand my travel patterns. This will help identify common commute paths and potential opportunities for optimization."
   ]
  },
  {
   "cell_type": "code",
   "execution_count": null,
   "id": "6f1eff79",
   "metadata": {},
   "outputs": [],
   "source": [
    "# Count journeys by route (from -> to)\n",
    "route_counts = clean.groupby(['From', 'To']).size().sort_values(ascending=False)\n",
    "\n",
    "# Display top 10 most frequent routes\n",
    "print(\"Top 10 Most Frequent Routes:\")\n",
    "print(route_counts.head(10))\n",
    "\n",
    "# Visualize top 5 routes\n",
    "plt.figure(figsize=(10, 6))\n",
    "route_counts.head(5).plot(kind='barh')\n",
    "plt.title('Top 5 Most Frequent Routes')\n",
    "plt.xlabel('Number of Journeys')\n",
    "plt.ylabel('Route (From → To)')\n",
    "plt.tight_layout()"
   ]
  },
  {
   "cell_type": "markdown",
   "id": "ac119b33",
   "metadata": {},
   "source": [
    "## Expense Analysis\n",
    "\n",
    "Let's analyze how much I'm spending on public transport and identify any patterns or opportunities for savings."
   ]
  },
  {
   "cell_type": "code",
   "execution_count": null,
   "id": "d8bca7ac",
   "metadata": {},
   "outputs": [],
   "source": [
    "# Analyzing expenses by day of week\n",
    "clean['day_of_week'] = clean['datetime'].dt.day_name()\n",
    "\n",
    "# Total amount spent by day of week\n",
    "day_expenses = clean.groupby('day_of_week')['Amount $'].sum()\n",
    "\n",
    "# Reorder days for better visualization\n",
    "days_order = ['Monday', 'Tuesday', 'Wednesday', 'Thursday', 'Friday', 'Saturday', 'Sunday']\n",
    "day_expenses = day_expenses.reindex(days_order)\n",
    "\n",
    "# Plot expenses by day of week\n",
    "plt.figure(figsize=(10, 6))\n",
    "day_expenses.plot(kind='bar')\n",
    "plt.title('Total Transport Expenses by Day of Week')\n",
    "plt.xlabel('Day of Week')\n",
    "plt.ylabel('Total Amount ($)')\n",
    "plt.grid(axis='y', alpha=0.3)\n",
    "plt.tight_layout()"
   ]
  },
  {
   "cell_type": "markdown",
   "id": "fd8d86f6",
   "metadata": {},
   "source": [
    "## Conclusions and Next Steps\n",
    "\n",
    "Based on this analysis of my Opal card data, I've found several patterns in my public transport usage:\n",
    "\n",
    "1. **Peak Travel Times**: My journeys are primarily concentrated around [typical commuting hours, based on the histogram]\n",
    "2. **Common Routes**: I frequently travel between [most common locations, based on route analysis]\n",
    "3. **Weekly Patterns**: My transport expenses are highest on [days with highest expenses]\n",
    "\n",
    "### Future Analyses to Consider:\n",
    "\n",
    "- Seasonal variations in travel patterns\n",
    "- Correlation between weather and transport choice\n",
    "- Cost efficiency analysis: comparing different fare types or transport modes\n",
    "- Travel time optimization opportunities\n",
    "\n",
    "This initial analysis provides a foundation for understanding my travel behavior and potentially optimizing both time and costs associated with my daily commute."
   ]
  }
 ],
 "metadata": {
  "kernelspec": {
   "display_name": ".venv",
   "language": "python",
   "name": "python3"
  },
  "language_info": {
   "codemirror_mode": {
    "name": "ipython",
    "version": 3
   },
   "file_extension": ".py",
   "mimetype": "text/x-python",
   "name": "python",
   "nbconvert_exporter": "python",
   "pygments_lexer": "ipython3",
   "version": "3.12.5"
  }
 },
 "nbformat": 4,
 "nbformat_minor": 5
}
