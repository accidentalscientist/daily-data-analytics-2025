{
 "cells": [
  {
   "cell_type": "code",
   "execution_count": null,
   "id": "6fe1a2c2",
   "metadata": {},
   "outputs": [
    {
     "ename": "TypeError",
     "evalue": "'NoneType' object is not iterable",
     "output_type": "error",
     "traceback": [
      "\u001b[31m---------------------------------------------------------------------------\u001b[39m",
      "\u001b[31mTypeError\u001b[39m                                 Traceback (most recent call last)",
      "\u001b[36mCell\u001b[39m\u001b[36m \u001b[39m\u001b[32mIn[4]\u001b[39m\u001b[32m, line 5\u001b[39m\n\u001b[32m      3\u001b[39m \u001b[38;5;28;01mwith\u001b[39;00m pdfplumber.open(\u001b[33m\"\u001b[39m\u001b[33mopal_activity.pdf\u001b[39m\u001b[33m\"\u001b[39m) \u001b[38;5;28;01mas\u001b[39;00m pdf:  \n\u001b[32m      4\u001b[39m     \u001b[38;5;28;01mfor\u001b[39;00m page \u001b[38;5;129;01min\u001b[39;00m pdf.pages:  \n\u001b[32m----> \u001b[39m\u001b[32m5\u001b[39m         \u001b[43mrows\u001b[49m\u001b[43m \u001b[49m\u001b[43m+\u001b[49m\u001b[43m=\u001b[49m\u001b[43m \u001b[49m\u001b[43mpage\u001b[49m\u001b[43m.\u001b[49m\u001b[43mextract_table\u001b[49m\u001b[43m(\u001b[49m\u001b[43m)\u001b[49m        \u001b[38;5;66;03m# grabs each table  \u001b[39;00m\n\u001b[32m      6\u001b[39m df = pd.DataFrame(rows[\u001b[32m1\u001b[39m:], columns=rows[\u001b[32m0\u001b[39m])  \n\u001b[32m      7\u001b[39m df.to_csv(\u001b[33m\"\u001b[39m\u001b[33mopal_trips.csv\u001b[39m\u001b[33m\"\u001b[39m, index=\u001b[38;5;28;01mFalse\u001b[39;00m)\n",
      "\u001b[31mTypeError\u001b[39m: 'NoneType' object is not iterable"
     ]
    }
   ],
   "source": [
    "import pdfplumber \n",
    "import pandas as pd  \n",
    "import \n"
   ]
  },
  {
   "cell_type": "code",
   "execution_count": 5,
   "id": "5552d76a",
   "metadata": {},
   "outputs": [
    {
     "ename": "IndexError",
     "evalue": "list index out of range",
     "output_type": "error",
     "traceback": [
      "\u001b[31m---------------------------------------------------------------------------\u001b[39m",
      "\u001b[31mIndexError\u001b[39m                                Traceback (most recent call last)",
      "\u001b[36mCell\u001b[39m\u001b[36m \u001b[39m\u001b[32mIn[5]\u001b[39m\u001b[32m, line 8\u001b[39m\n\u001b[32m      5\u001b[39m         \u001b[38;5;28;01mif\u001b[39;00m tbl:                             \u001b[38;5;66;03m# <- skip pages without tables\u001b[39;00m\n\u001b[32m      6\u001b[39m             rows.extend(tbl)\n\u001b[32m----> \u001b[39m\u001b[32m8\u001b[39m df = pd.DataFrame(rows[\u001b[32m1\u001b[39m:], columns=\u001b[43mrows\u001b[49m\u001b[43m[\u001b[49m\u001b[32;43m0\u001b[39;49m\u001b[43m]\u001b[49m)\n\u001b[32m      9\u001b[39m df.to_csv(\u001b[33m\"\u001b[39m\u001b[33mopal_trips.csv\u001b[39m\u001b[33m\"\u001b[39m, index=\u001b[38;5;28;01mFalse\u001b[39;00m)\n",
      "\u001b[31mIndexError\u001b[39m: list index out of range"
     ]
    }
   ],
   "source": [
    "rows = []\n",
    "with pdfplumber.open(\"opal_activity.pdf\") as pdf:\n",
    "    for page in pdf.pages:\n",
    "        tbl = page.extract_table()          # or page.extract_tables()[0]  \n",
    "        if tbl:                             # <- skip pages without tables\n",
    "            rows.extend(tbl)\n",
    "\n",
    "df = pd.DataFrame(rows[1:], columns=rows[0])\n",
    "df.to_csv(\"opal_trips.csv\", index=False)"
   ]
  }
 ],
 "metadata": {
  "kernelspec": {
   "display_name": ".venv",
   "language": "python",
   "name": "python3"
  },
  "language_info": {
   "codemirror_mode": {
    "name": "ipython",
    "version": 3
   },
   "file_extension": ".py",
   "mimetype": "text/x-python",
   "name": "python",
   "nbconvert_exporter": "python",
   "pygments_lexer": "ipython3",
   "version": "3.12.5"
  }
 },
 "nbformat": 4,
 "nbformat_minor": 5
}
